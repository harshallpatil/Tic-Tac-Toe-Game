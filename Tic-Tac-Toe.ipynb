{
 "cells": [
  {
   "cell_type": "markdown",
   "id": "20fb08db-43b1-42dd-a1d3-567f7ae7bce0",
   "metadata": {},
   "source": [
    "1) Print the board - print_board(board)\n",
    "2) To check the winner - is_winner()\n",
    "3) To check for tie - is_board_full()\n",
    "4) To get the place of empty cell - get_empty_cell()\n",
    "5) For check the optimized move - minimax()\n",
    "6) To move on actual board - best_move()\n",
    "7) To play the game - main()"
   ]
  },
  {
   "cell_type": "code",
   "execution_count": 1,
   "id": "a8297ece-60b4-415b-ad4c-2bef26bdc3f5",
   "metadata": {},
   "outputs": [],
   "source": [
    "def print_board(board):\n",
    "    for row in board:\n",
    "        print(\" | \".join(row))\n",
    "        print(\"-\"*9)"
   ]
  },
  {
   "cell_type": "code",
   "execution_count": 8,
   "id": "64f26bbd-63f6-4960-a16a-fdc4fe6bda96",
   "metadata": {},
   "outputs": [],
   "source": [
    "def is_winner(board, player):\n",
    "    for row in board:\n",
    "        if all(cell==player for cell in row):\n",
    "            return True\n",
    "    for col in range(3):\n",
    "        if all(row[col] == player for row in board):\n",
    "            return True\n",
    "    if all(board[i][i]==player for i in range(3)) or all(board[i][2-i]==player for i in range(3)):\n",
    "        return True\n",
    "\n",
    "    return False"
   ]
  },
  {
   "cell_type": "code",
   "execution_count": 9,
   "id": "8eb1c29b-4187-4153-9390-77fc9e41af5c",
   "metadata": {},
   "outputs": [],
   "source": [
    "def is_board_full(board):\n",
    "    return all(cell != \" \" for row in board for cell in row)"
   ]
  },
  {
   "cell_type": "code",
   "execution_count": 10,
   "id": "fd6810c4-ad46-488c-aac7-04ad81b905cc",
   "metadata": {},
   "outputs": [],
   "source": [
    "def get_empty_cell(board):\n",
    "    return [(i, j) for i in range(3) for j in range(3) if board[i][j]==\" \"]"
   ]
  },
  {
   "cell_type": "code",
   "execution_count": 11,
   "id": "1bca9825-84b3-498e-bea4-b45670b59556",
   "metadata": {},
   "outputs": [],
   "source": [
    "def minimax(board, depth, is_maximizer):\n",
    "    if is_winner(board, \"O\"):\n",
    "        return 1\n",
    "    elif is_winner(board, \"X\"):\n",
    "        return -1\n",
    "    elif is_board_full(board):\n",
    "        return 0\n",
    "\n",
    "    if is_maximizer:\n",
    "        max_eval = float(\"-inf\")\n",
    "        for i, j in get_empty_cell(board):\n",
    "            board[i][j] = \"O\"\n",
    "            eval = minimax(board, depth+1, False)\n",
    "            board[i][j] = \" \"\n",
    "            max_eval = max(max_eval, eval)\n",
    "        return max_eval\n",
    "    else:\n",
    "        min_eval = float(\"inf\")\n",
    "        for i, j in get_empty_cell(board):\n",
    "            board[i][j] = \"X\"\n",
    "            eval = minimax(board, depth+1, True)\n",
    "            board[i][j] = \" \"\n",
    "            min_eval = min(min_eval, eval)\n",
    "        return min_eval"
   ]
  },
  {
   "cell_type": "code",
   "execution_count": 12,
   "id": "ce7b3b8e-bd7a-4074-bfa8-0a3aea74e1d4",
   "metadata": {},
   "outputs": [],
   "source": [
    "def best_move(board):\n",
    "    best_val = float(\"-inf\")\n",
    "    best_move = None\n",
    "    for i, j in get_empty_cell(board):\n",
    "        board[i][j] = \"O\"\n",
    "        move_val = minimax(board, 0, False)\n",
    "        board[i][j] = \" \"\n",
    "\n",
    "        if move_val > best_val:\n",
    "            best_move = (i, j)\n",
    "            best_val = move_val\n",
    "            \n",
    "    return best_move"
   ]
  },
  {
   "cell_type": "code",
   "execution_count": 13,
   "id": "a41e4d6c-a635-4623-8308-a061c3358f6a",
   "metadata": {},
   "outputs": [],
   "source": [
    "def main():\n",
    "    board = [[\" \" for _ in range(3)] for _ in range(3)]\n",
    "\n",
    "    while True:\n",
    "        print_board(board)\n",
    "\n",
    "        row = int(input(\"Enter the row index (0, 1, 2) : \"))\n",
    "        col = int(input(\"Enter the column index (0, 1, 2) : \"))\n",
    "        if board[row][col] == \" \":\n",
    "            board[row][col]=\"X\"\n",
    "        else:\n",
    "            print(\"This cell is already taken,  Try Again!\")\n",
    "            continue\n",
    "\n",
    "        if is_winner(board, \"X\"):\n",
    "            print_board(board)\n",
    "            print(\"Congratulation! you win!\")\n",
    "            break\n",
    "        elif is_board_full(board):\n",
    "            print_board(board)\n",
    "            print(\"Ohhh it's a Tie!\")\n",
    "            break\n",
    "\n",
    "        print_board(board)\n",
    "\n",
    "        print(\"AI is thinking...\")\n",
    "        ai_row, ai_col = best_move(board)\n",
    "        board[ai_row][ai_col] = \"O\"\n",
    "\n",
    "        if is_winner(board, \"O\"):\n",
    "            print_board(board)\n",
    "            print(\"AI Wins! Better luck next time!\")\n",
    "            break\n",
    "        elif is_board_full(board):\n",
    "            print_board(board)\n",
    "            print(\"Ohhh it's a Tie!\")\n",
    "            break"
   ]
  },
  {
   "cell_type": "code",
   "execution_count": 14,
   "id": "e6dc0d5c-61c4-42b5-86c7-75ae0ffa0fa0",
   "metadata": {},
   "outputs": [
    {
     "name": "stdout",
     "output_type": "stream",
     "text": [
      "  |   |  \n",
      "---------\n",
      "  |   |  \n",
      "---------\n",
      "  |   |  \n",
      "---------\n"
     ]
    },
    {
     "name": "stdin",
     "output_type": "stream",
     "text": [
      "Enter the row index (0, 1, 2) :  0\n",
      "Enter the column index (0, 1, 2) :  0\n"
     ]
    },
    {
     "name": "stdout",
     "output_type": "stream",
     "text": [
      "X |   |  \n",
      "---------\n",
      "  |   |  \n",
      "---------\n",
      "  |   |  \n",
      "---------\n",
      "AI is thinking...\n",
      "X |   |  \n",
      "---------\n",
      "  | O |  \n",
      "---------\n",
      "  |   |  \n",
      "---------\n"
     ]
    },
    {
     "name": "stdin",
     "output_type": "stream",
     "text": [
      "Enter the row index (0, 1, 2) :  2\n",
      "Enter the column index (0, 1, 2) :  0\n"
     ]
    },
    {
     "name": "stdout",
     "output_type": "stream",
     "text": [
      "X |   |  \n",
      "---------\n",
      "  | O |  \n",
      "---------\n",
      "X |   |  \n",
      "---------\n",
      "AI is thinking...\n",
      "X |   |  \n",
      "---------\n",
      "O | O |  \n",
      "---------\n",
      "X |   |  \n",
      "---------\n"
     ]
    },
    {
     "name": "stdin",
     "output_type": "stream",
     "text": [
      "Enter the row index (0, 1, 2) :  1\n",
      "Enter the column index (0, 1, 2) :  2\n"
     ]
    },
    {
     "name": "stdout",
     "output_type": "stream",
     "text": [
      "X |   |  \n",
      "---------\n",
      "O | O | X\n",
      "---------\n",
      "X |   |  \n",
      "---------\n",
      "AI is thinking...\n",
      "X | O |  \n",
      "---------\n",
      "O | O | X\n",
      "---------\n",
      "X |   |  \n",
      "---------\n"
     ]
    },
    {
     "name": "stdin",
     "output_type": "stream",
     "text": [
      "Enter the row index (0, 1, 2) :  2\n",
      "Enter the column index (0, 1, 2) :  1\n"
     ]
    },
    {
     "name": "stdout",
     "output_type": "stream",
     "text": [
      "X | O |  \n",
      "---------\n",
      "O | O | X\n",
      "---------\n",
      "X | X |  \n",
      "---------\n",
      "AI is thinking...\n",
      "X | O |  \n",
      "---------\n",
      "O | O | X\n",
      "---------\n",
      "X | X | O\n",
      "---------\n"
     ]
    },
    {
     "name": "stdin",
     "output_type": "stream",
     "text": [
      "Enter the row index (0, 1, 2) :  0\n",
      "Enter the column index (0, 1, 2) :  2\n"
     ]
    },
    {
     "name": "stdout",
     "output_type": "stream",
     "text": [
      "X | O | X\n",
      "---------\n",
      "O | O | X\n",
      "---------\n",
      "X | X | O\n",
      "---------\n",
      "Ohhh it's a Tie!\n"
     ]
    }
   ],
   "source": [
    "if __name__ == \"__main__\":\n",
    "    main()"
   ]
  },
  {
   "cell_type": "code",
   "execution_count": null,
   "id": "a6195ecc-0ae0-49fd-b1cc-11a914bbb314",
   "metadata": {},
   "outputs": [],
   "source": []
  }
 ],
 "metadata": {
  "kernelspec": {
   "display_name": "Python 3 (ipykernel)",
   "language": "python",
   "name": "python3"
  },
  "language_info": {
   "codemirror_mode": {
    "name": "ipython",
    "version": 3
   },
   "file_extension": ".py",
   "mimetype": "text/x-python",
   "name": "python",
   "nbconvert_exporter": "python",
   "pygments_lexer": "ipython3",
   "version": "3.12.1"
  }
 },
 "nbformat": 4,
 "nbformat_minor": 5
}
