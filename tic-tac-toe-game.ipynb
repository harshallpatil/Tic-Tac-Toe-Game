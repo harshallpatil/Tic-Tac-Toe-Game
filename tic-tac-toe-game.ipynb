{
 "cells": [
  {
   "cell_type": "markdown",
   "id": "8b679f07-5aea-4594-b7fd-da27c84a52ba",
   "metadata": {},
   "source": [
    "1) print the board - print_board(board)\n",
    "2) To check the winner - is_winner()\n",
    "3) to check for tie - is_board_fill()\n",
    "4) to get the place of empty cell - get_empty_cell()\n",
    "5) For check the optimized move - minimax()\n",
    "6) to move on actual board - best_move()\n",
    "7) to play the game - main()"
   ]
  },
  {
   "cell_type": "code",
   "execution_count": 1,
   "id": "acd289b7-f376-4d87-adab-7df28c93108f",
   "metadata": {},
   "outputs": [],
   "source": [
    "def print_board(board):\n",
    "    for row in board:\n",
    "        print(\" | \".join(row))\n",
    "        print(\"-\"*9)"
   ]
  },
  {
   "cell_type": "code",
   "execution_count": 11,
   "id": "c0a829c4-527f-4898-b2ac-21ed7e1a340c",
   "metadata": {},
   "outputs": [],
   "source": [
    "def is_winner(board, player):\n",
    "    \n",
    "    for row in board:\n",
    "        \n",
    "        if all(cell == player for cell in row):\n",
    "            return True\n",
    "            \n",
    "    for col in range(3):\n",
    "        \n",
    "        if all(row[col] == player for row in board):\n",
    "            return True\n",
    "            \n",
    "    if all(board[i][i] == player for i in range(3)) or all(board[i][2-i] == player for i in range(3)):\n",
    "        return True\n",
    "    \n",
    "    \n",
    "    return False"
   ]
  },
  {
   "cell_type": "code",
   "execution_count": 3,
   "id": "19c63c49-c1a0-48bb-b514-394bb2dd3b30",
   "metadata": {},
   "outputs": [],
   "source": [
    "def is_board_full(board):\n",
    "    return all(cell != \" \"for row in board for cell in row )"
   ]
  },
  {
   "cell_type": "code",
   "execution_count": 4,
   "id": "5b04fd8e-67d4-4235-82c2-b99ef3b8cb4e",
   "metadata": {},
   "outputs": [],
   "source": [
    "def get_empty_cell(board):\n",
    "    return [(i, j) for i in range(3) for j in range(3) if board [i][j] == \" \"]"
   ]
  },
  {
   "cell_type": "code",
   "execution_count": 12,
   "id": "ee853907-41fa-45c3-b99c-79078fd33497",
   "metadata": {},
   "outputs": [],
   "source": [
    "def minimax(board, depth, is_maximizer):\n",
    "    \n",
    "    if is_winner(board, \"O\"):\n",
    "        return 1\n",
    "        \n",
    "    elif is_winner(board, \"X\"):\n",
    "        return -1\n",
    "        \n",
    "    elif is_board_full(board):\n",
    "        return 0\n",
    "        \n",
    "        \n",
    "    if is_maximizer:\n",
    "        max_eval = float(\"-inf\")\n",
    "        \n",
    "        for i, j in get_empty_cell(board):\n",
    "            board[i][j] = \"O\"\n",
    "            eval = minimax(board, depth+1, False)\n",
    "            board[i][j] = \" \"\n",
    "            max_eval = max(max_eval,eval)\n",
    "        return max_eval\n",
    "        \n",
    "    else:\n",
    "        min_eval = float(\"inf\")\n",
    "        \n",
    "        for i, j in get_empty_cell(board):\n",
    "            board[i][j] = \"X\"\n",
    "            eval = minimax(board, depth+1, True)\n",
    "            board[i][j] = \" \"\n",
    "            min_eval = min(min_eval, eval)\n",
    "        return min_eval\n",
    "            \n",
    "        \n"
   ]
  },
  {
   "cell_type": "code",
   "execution_count": 10,
   "id": "78e4f076-f16a-4c1d-8acd-a48fc7b61b7e",
   "metadata": {},
   "outputs": [],
   "source": [
    "def best_move(board):\n",
    "    best_val = float(\"-inf\")\n",
    "    best_move = None\n",
    "    \n",
    "    for i, j in get_empty_cell(board):\n",
    "        board[i][j] = \"O\"\n",
    "        move_val = minimax(board, 0 ,False)\n",
    "        board[i][j] = \" \"\n",
    "        \n",
    "        if move_val > best_val:\n",
    "            best_move = (i, j)\n",
    "            best_val = move_val\n",
    "        return best_move"
   ]
  },
  {
   "cell_type": "code",
   "execution_count": 9,
   "id": "45beaaba-640c-4e4c-a01e-459cc48ce25b",
   "metadata": {},
   "outputs": [],
   "source": [
    "def main():\n",
    "    board = [[\" \" for z in range(3)] for z in range(3)]\n",
    "    \n",
    "    while True:\n",
    "        print_board(board)\n",
    "        \n",
    "        row = int(input(\" Enter the row index in 0, 1, 2 :) \"))\n",
    "        col = int(input(\" Enter the column index in 0, 1, 2 :) \"))\n",
    "        \n",
    "        if board[row][col] == \" \":\n",
    "            board[row][col] = \"X\"\n",
    "            \n",
    "        else:\n",
    "            print(\"This cell is already taken, Try Again..!!! \")\n",
    "            continue\n",
    "            \n",
    "        if is_winner(board, \"X\"):\n",
    "            print_board(board)\n",
    "            print(\"Congratulations..! You Won Game\")\n",
    "            break\n",
    "            \n",
    "        elif is_board_full(board):\n",
    "            print_board(board)\n",
    "            print(\"Ohhhh it's a Tie..!!! Well played\")\n",
    "            break\n",
    "            \n",
    "        print_board(board)\n",
    "        \n",
    "        print(\"AI is thinking...:) \")\n",
    "        ai_row, ai_col = best_move(board)\n",
    "        board[ai_row][ai_col] = \"O\"\n",
    "        \n",
    "        if is_winner(board, \"O\"):\n",
    "            print_board(board)\n",
    "            print(\"A.I Won! Better luck next time!\")\n",
    "            break\n",
    "            \n",
    "        elif is_board_full(board):\n",
    "            print_board(board)\n",
    "            print(\"Ohhhh it's a Tie..!!! Well played\")\n",
    "            break"
   ]
  },
  {
   "cell_type": "code",
   "execution_count": null,
   "id": "794d7232-9f34-4dac-8b8a-fcf2ab9153a8",
   "metadata": {},
   "outputs": [
    {
     "name": "stdout",
     "output_type": "stream",
     "text": [
      "  |   |  \n",
      "---------\n",
      "  |   |  \n",
      "---------\n",
      "  |   |  \n",
      "---------\n"
     ]
    },
    {
     "name": "stdin",
     "output_type": "stream",
     "text": [
      " Enter the row index in 0, 1, 2 :)  0\n",
      " Enter the column index in 0, 1, 2 :)  0\n"
     ]
    },
    {
     "name": "stdout",
     "output_type": "stream",
     "text": [
      "X |   |  \n",
      "---------\n",
      "  |   |  \n",
      "---------\n",
      "  |   |  \n",
      "---------\n",
      "AI is thinking...:) \n",
      "X | O |  \n",
      "---------\n",
      "  |   |  \n",
      "---------\n",
      "  |   |  \n",
      "---------\n"
     ]
    },
    {
     "name": "stdin",
     "output_type": "stream",
     "text": [
      " Enter the row index in 0, 1, 2 :)  0\n",
      " Enter the column index in 0, 1, 2 :)  2\n"
     ]
    },
    {
     "name": "stdout",
     "output_type": "stream",
     "text": [
      "X | O | X\n",
      "---------\n",
      "  |   |  \n",
      "---------\n",
      "  |   |  \n",
      "---------\n",
      "AI is thinking...:) \n",
      "X | O | X\n",
      "---------\n",
      "O |   |  \n",
      "---------\n",
      "  |   |  \n",
      "---------\n"
     ]
    },
    {
     "name": "stdin",
     "output_type": "stream",
     "text": [
      " Enter the row index in 0, 1, 2 :)  2\n",
      " Enter the column index in 0, 1, 2 :)  2\n"
     ]
    },
    {
     "name": "stdout",
     "output_type": "stream",
     "text": [
      "X | O | X\n",
      "---------\n",
      "O |   |  \n",
      "---------\n",
      "  |   | X\n",
      "---------\n",
      "AI is thinking...:) \n",
      "X | O | X\n",
      "---------\n",
      "O | O |  \n",
      "---------\n",
      "  |   | X\n",
      "---------\n"
     ]
    }
   ],
   "source": [
    "if __name__ == \"__main__\":\n",
    "    main()"
   ]
  },
  {
   "cell_type": "code",
   "execution_count": null,
   "id": "dcde96f5-5a5f-4bc4-9b9d-bf0eed05fe7a",
   "metadata": {},
   "outputs": [],
   "source": []
  }
 ],
 "metadata": {
  "kernelspec": {
   "display_name": "Python 3 (ipykernel)",
   "language": "python",
   "name": "python3"
  },
  "language_info": {
   "codemirror_mode": {
    "name": "ipython",
    "version": 3
   },
   "file_extension": ".py",
   "mimetype": "text/x-python",
   "name": "python",
   "nbconvert_exporter": "python",
   "pygments_lexer": "ipython3",
   "version": "3.12.1"
  }
 },
 "nbformat": 4,
 "nbformat_minor": 5
}
